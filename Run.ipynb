{
 "cells": [
  {
   "cell_type": "markdown",
   "metadata": {},
   "source": [
    "## Importing Libraries"
   ]
  },
  {
   "cell_type": "code",
   "execution_count": 2,
   "metadata": {},
   "outputs": [],
   "source": [
    "import os\n",
    "import tkinter as tk\n",
    "import cv2\n",
    "import numpy as np\n",
    "\n",
    "from tkinter import *\n",
    "from PIL import Image, ImageTk\n",
    "from keras.models import model_from_json\n",
    "from keras.preprocessing import image"
   ]
  },
  {
   "cell_type": "markdown",
   "metadata": {},
   "source": [
    "### Loading Trained Model"
   ]
  },
  {
   "cell_type": "code",
   "execution_count": 3,
   "metadata": {},
   "outputs": [],
   "source": [
    "mask_model = model_from_json(open(\"Model/model.json\", \"r\").read())\n",
    "mask_model.load_weights('Model/model.h5')\n",
    "\n",
    "face_haar_cascade = cv2.CascadeClassifier('cv_file/haarcascade_frontalface_default.xml')"
   ]
  },
  {
   "cell_type": "markdown",
   "metadata": {},
   "source": [
    "### Emotion Dictionary Mapping"
   ]
  },
  {
   "cell_type": "code",
   "execution_count": 4,
   "metadata": {},
   "outputs": [],
   "source": [
    "mask_dict = [\"Mask\", \"No Mask\"];"
   ]
  },
  {
   "cell_type": "markdown",
   "metadata": {},
   "source": [
    "### Using OpenCV to check model on Live WebCam"
   ]
  },
  {
   "cell_type": "code",
   "execution_count": 10,
   "metadata": {},
   "outputs": [],
   "source": [
    "cap=cv2.VideoCapture(0)\n",
    "\n",
    "\n",
    "while True:\n",
    "    _, test_image=cap.read()\n",
    "\n",
    "    faces_detected = face_haar_cascade.detectMultiScale(test_image)\n",
    "    for (x,y,w,h) in faces_detected:\n",
    "        roi_gray=test_image[y:y+w,x:x+h]\n",
    "\n",
    "        img = np.expand_dims(cv2.resize(roi_gray, (224, 224)), 0)\n",
    "\n",
    "        predictions = mask_model.predict(img)\n",
    "        \n",
    "        max_index = np.argmax(predictions[0])\n",
    "        mask_prediction = mask_dict[max_index]\n",
    "        mask_perc = '%.2f'%(predictions[0][max_index] * 100)\n",
    "        \n",
    "        if max_index == 0:\n",
    "            #Follow color BGR Pattern i.e blue green red\n",
    "            cv2.rectangle(test_image,(x,y), (x+w,y+h), (0,255,0), 2)\n",
    "            cv2.putText(test_image, mask_prediction + f' {mask_perc}%', (int(x+10), int(y-5)), cv2.FONT_HERSHEY_SIMPLEX, 1, (0, 255, 0), 1, cv2.LINE_AA)\n",
    "        else:\n",
    "            cv2.rectangle(test_image,(x,y), (x+w,y+h), (0,0,255), 2)\n",
    "            cv2.putText(test_image, mask_prediction + f' {mask_perc}%', (int(x+10), int(y-5)), cv2.FONT_HERSHEY_SIMPLEX, 1, (0, 0, 255), 1, cv2.LINE_AA)\n",
    "            \n",
    "        resize_image = cv2.resize(test_image, (800, 600))\n",
    "        \n",
    "        cv2.imshow('Face Mask Detector',resize_image)\n",
    "         \n",
    "    if cv2.waitKey(10) & 0xFF == ord(\"q\"): \n",
    "        break \n",
    "\n",
    "cap.release()\n",
    "cv2.destroyAllWindows()"
   ]
  }
 ],
 "metadata": {
  "kernelspec": {
   "display_name": "Python 3",
   "language": "python",
   "name": "python3"
  },
  "language_info": {
   "codemirror_mode": {
    "name": "ipython",
    "version": 3
   },
   "file_extension": ".py",
   "mimetype": "text/x-python",
   "name": "python",
   "nbconvert_exporter": "python",
   "pygments_lexer": "ipython3",
   "version": "3.8.5"
  }
 },
 "nbformat": 4,
 "nbformat_minor": 4
}
